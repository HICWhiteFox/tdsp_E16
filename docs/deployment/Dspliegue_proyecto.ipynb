{
  "cells": [
    {
      "cell_type": "markdown",
      "id": "e4f75217",
      "metadata": {
        "id": "e4f75217"
      },
      "source": [
        "# **Despliege del modelo con FastAPI**\n",
        "---\n"
      ]
    },
    {
      "cell_type": "code",
      "execution_count": null,
      "id": "c23cc81f",
      "metadata": {
        "id": "c23cc81f"
      },
      "outputs": [],
      "source": [
        "!pip install fastapi"
      ]
    },
    {
      "cell_type": "markdown",
      "id": "f2a3c739",
      "metadata": {
        "id": "f2a3c739"
      },
      "source": [
        "Importamos las librerías necesarias:"
      ]
    },
    {
      "cell_type": "code",
      "execution_count": null,
      "id": "96999f65",
      "metadata": {
        "id": "96999f65"
      },
      "outputs": [],
      "source": [
        "import pandas as pd\n",
        "from IPython.display import display"
      ]
    },
    {
      "cell_type": "markdown",
      "source": [
        "# **PARTE I: Carga de Textos**\n",
        "---"
      ],
      "metadata": {
        "id": "e7B__bnXLjIM"
      },
      "id": "e7B__bnXLjIM"
    },
    {
      "cell_type": "code",
      "source": [
        "import re\n",
        "import spacy\n",
        "import numpy as np\n",
        "import pandas as pd\n",
        "import matplotlib.pyplot as plt\n",
        "from sklearn.feature_extraction.text import CountVectorizer, TfidfVectorizer\n",
        "from IPython.display import display\n",
        "plt.style.use(\"ggplot\")\n",
        "spacy.cli.download(\"es_core_news_sm\")"
      ],
      "metadata": {
        "id": "wV3a7qqRZQ6I"
      },
      "execution_count": null,
      "outputs": [],
      "id": "wV3a7qqRZQ6I"
    },
    {
      "cell_type": "code",
      "source": [
        "# ML models\n",
        "from sklearn.ensemble import RandomForestClassifier\n",
        "from xgboost import XGBClassifier\n",
        "from sklearn.linear_model import LogisticRegression\n",
        "\n",
        "# scikit-learn:\n",
        "from sklearn.model_selection import train_test_split\n",
        "from sklearn.metrics import accuracy_score, classification_report\n",
        "from sklearn.metrics import confusion_matrix\n",
        "from sklearn import metrics\n",
        "import pickle\n",
        "from sklearn.metrics import roc_auc_score"
      ],
      "metadata": {
        "id": "G7CEaureXYxw"
      },
      "execution_count": null,
      "outputs": [],
      "id": "G7CEaureXYxw"
    },
    {
      "cell_type": "code",
      "source": [
        "import kagglehub\n",
        "\n",
        "# Download latest version\n",
        "path = kagglehub.dataset_download(\"arseniitretiakov/noticias-falsas-en-espaol\")\n",
        "\n",
        "print(\"Path to dataset files:\", path)"
      ],
      "metadata": {
        "id": "3ZaK8XreYnFh"
      },
      "execution_count": null,
      "outputs": [],
      "id": "3ZaK8XreYnFh"
    },
    {
      "cell_type": "code",
      "source": [
        "import pandas as pd\n",
        "\n",
        "# Assuming the dataset is in a CSV file named \"fakes1000.csv\"\n",
        "file_path = path + \"/fakes1000.csv\"\n",
        "df = pd.read_csv(file_path)\n",
        "\n",
        "print(df.head()) # Print the first few rows of the DataFrame"
      ],
      "metadata": {
        "id": "ZIIl9-8I5_K2"
      },
      "execution_count": null,
      "outputs": [],
      "id": "ZIIl9-8I5_K2"
    },
    {
      "cell_type": "code",
      "source": [
        "df.astype({'class': 'category'}).dtypes"
      ],
      "metadata": {
        "id": "GQr6M5e8rM5O"
      },
      "execution_count": null,
      "outputs": [],
      "id": "GQr6M5e8rM5O"
    },
    {
      "cell_type": "markdown",
      "source": [
        "# **PARTE II: Preprocesamiento**\n",
        "---"
      ],
      "metadata": {
        "id": "FJopAX0cWliH"
      },
      "id": "FJopAX0cWliH"
    },
    {
      "cell_type": "code",
      "source": [
        "df['class'] = df['class'].replace({True: 1, False: 0})"
      ],
      "metadata": {
        "id": "cMkxXse9WxaL"
      },
      "execution_count": null,
      "outputs": [],
      "id": "cMkxXse9WxaL"
    },
    {
      "cell_type": "code",
      "source": [
        "!pip install spacy==3.5.3\n",
        "!python -m spacy download es_core_news_sm\n",
        "\n",
        "import spacy\n",
        "\n",
        "# Carga el modelo en español de spaCy\n",
        "nlp = spacy.load(\"es_core_news_sm\")"
      ],
      "metadata": {
        "id": "rbp9ASIdLXid"
      },
      "execution_count": null,
      "outputs": [],
      "id": "rbp9ASIdLXid"
    },
    {
      "cell_type": "code",
      "source": [
        "def preprocess_text(text):\n",
        "\n",
        "  doc = nlp(text)\n",
        "\n",
        "  # Tokenización, eliminación de stopwords, lematización y minúsculas\n",
        "  lemmas = [token.lemma_.lower() for token in doc if not token.is_stop and not token.is_punct]\n",
        "\n",
        "  # Unión de lemas en una cadena de texto\n",
        "  preprocessed_text = \" \".join(lemmas)\n",
        "\n",
        "  return preprocessed_text"
      ],
      "metadata": {
        "id": "mJvht_fhW4JB"
      },
      "execution_count": null,
      "outputs": [],
      "id": "mJvht_fhW4JB"
    },
    {
      "cell_type": "code",
      "source": [
        "# Aplica la función de preprocesamiento a la columna 'Text' de tu DataFrame\n",
        "df['preprocessed_text'] = df['Text'].apply(preprocess_text)"
      ],
      "metadata": {
        "id": "fFNDebhgXHZD"
      },
      "execution_count": null,
      "outputs": [],
      "id": "fFNDebhgXHZD"
    },
    {
      "cell_type": "markdown",
      "source": [
        "# **PARTE III: Extracción de Características**\n",
        "---"
      ],
      "metadata": {
        "id": "RzfkUc_tXYQ4"
      },
      "id": "RzfkUc_tXYQ4"
    },
    {
      "cell_type": "markdown",
      "source": [
        "#### *División del conjunto de datos (Prueba - Entrenamiento)*"
      ],
      "metadata": {
        "id": "c17TLoYekCTy"
      },
      "id": "c17TLoYekCTy"
    },
    {
      "cell_type": "code",
      "source": [
        "X=df['preprocessed_text']\n",
        "y=df['class']"
      ],
      "metadata": {
        "id": "tsdZxbWyYJC8"
      },
      "execution_count": null,
      "outputs": [],
      "id": "tsdZxbWyYJC8"
    },
    {
      "cell_type": "code",
      "source": [
        "X_train, X_test, y_train, y_test = train_test_split(X, y, test_size = 0.2,random_state=42)"
      ],
      "metadata": {
        "id": "BNhOrD_3YMjV"
      },
      "execution_count": null,
      "outputs": [],
      "id": "BNhOrD_3YMjV"
    },
    {
      "cell_type": "markdown",
      "source": [
        "#### *Método de Vectorización 1: Bolsa de Palabras*"
      ],
      "metadata": {
        "id": "WxrwJc9FTLkm"
      },
      "id": "WxrwJc9FTLkm"
    },
    {
      "cell_type": "code",
      "source": [
        "vect = CountVectorizer()\n",
        "X_train_dtm = vect.fit_transform(X_train)\n",
        "X_test_dtm = vect.transform(X_test)\n",
        "print(X_train_dtm.shape, X_test_dtm.shape)"
      ],
      "metadata": {
        "id": "hwSJfnsmYSUf"
      },
      "execution_count": null,
      "outputs": [],
      "id": "hwSJfnsmYSUf"
    },
    {
      "cell_type": "markdown",
      "source": [
        "# **PARTE IV: Modelamiento**"
      ],
      "metadata": {
        "id": "_0EHSxFi9bMm"
      },
      "id": "_0EHSxFi9bMm"
    },
    {
      "cell_type": "markdown",
      "id": "b01e1de4",
      "metadata": {
        "id": "b01e1de4"
      },
      "source": [
        "## **2. Modelamiento y Evaluación**\n",
        "---\n",
        "\n",
        "Vamos a entrenar un modelo para clasificar automáticamente discursos de odio a partir de textos. Comenzamos dividiendo el conjunto de datos en las particiones de entrenamiento y prueba:"
      ]
    },
    {
      "cell_type": "markdown",
      "source": [
        "#### *Modelo 1: Random Forest + Countvectorizer*"
      ],
      "metadata": {
        "id": "-8tpmdsPZnIe"
      },
      "id": "-8tpmdsPZnIe"
    },
    {
      "cell_type": "code",
      "source": [
        "from sklearn.metrics import accuracy_score, precision_score, recall_score, f1_score, confusion_matrix, roc_auc_score"
      ],
      "metadata": {
        "id": "qsBMnsxDN2zj"
      },
      "execution_count": null,
      "outputs": [],
      "id": "qsBMnsxDN2zj"
    },
    {
      "cell_type": "code",
      "source": [
        "import matplotlib.pyplot as plt\n",
        "import seaborn as sns\n",
        "from sklearn.metrics import confusion_matrix"
      ],
      "metadata": {
        "id": "IP0jyo7TOHMN"
      },
      "execution_count": null,
      "outputs": [],
      "id": "IP0jyo7TOHMN"
    },
    {
      "cell_type": "code",
      "source": [
        "# Creación del modelo con los mejores hiperparámetros\n",
        "best_model = RandomForestClassifier(max_depth=None, min_samples_leaf=1, min_samples_split=5, n_estimators=300, random_state=42)\n",
        "\n",
        "# Entrenamiento\n",
        "best_model.fit(X_train_dtm, y_train)\n",
        "\n",
        "# Predicción\n",
        "y_pred = best_model.predict(X_test_dtm)"
      ],
      "metadata": {
        "id": "5dUx3vCq41z_"
      },
      "execution_count": null,
      "outputs": [],
      "id": "5dUx3vCq41z_"
    },
    {
      "cell_type": "code",
      "source": [
        "accuracy = accuracy_score(y_test, y_pred)\n",
        "print(\"Accuracy Countvectorizer: %.2f%%\" % (accuracy * 100.0))"
      ],
      "metadata": {
        "id": "2V4QuTcTaDeu"
      },
      "execution_count": null,
      "outputs": [],
      "id": "2V4QuTcTaDeu"
    },
    {
      "cell_type": "code",
      "source": [
        "accuracy = accuracy_score(y_test, y_pred)\n",
        "precision = precision_score(y_test, y_pred)\n",
        "recall = recall_score(y_test, y_pred)\n",
        "f1 = f1_score(y_test, y_pred)\n",
        "roc_auc = roc_auc_score(y_test, y_pred)"
      ],
      "metadata": {
        "id": "8sD_ISrGNqi1"
      },
      "execution_count": null,
      "outputs": [],
      "id": "8sD_ISrGNqi1"
    },
    {
      "cell_type": "code",
      "source": [
        "print(f\"Accuracy: {accuracy:.4f}\")\n",
        "print(f\"Precision: {precision:.4f}\")\n",
        "print(f\"Recall: {recall:.4f}\")\n",
        "print(f\"F1-score: {f1:.4f}\")\n",
        "print(f\"ROC AUC: {roc_auc:.4f}\")"
      ],
      "metadata": {
        "id": "p_B7HuJCN7mz"
      },
      "execution_count": null,
      "outputs": [],
      "id": "p_B7HuJCN7mz"
    },
    {
      "cell_type": "code",
      "source": [
        "# Dataframe con las métricas en porcentaje\n",
        "metrics_df = pd.DataFrame({\n",
        "    'Métrica': ['Accuracy', 'Precision', 'Recall', 'F1-score', 'ROC AUC'],\n",
        "    'Valor': [accuracy, precision, recall, f1, roc_auc]\n",
        "})\n",
        "metrics_df['Valor (%)'] = (metrics_df['Valor'] * 100).round(2)\n",
        "\n",
        "\n",
        "# Crear de imagen resumen con méticas\n",
        "\n",
        "fig, ax = plt.subplots(figsize=(8, 4))  # Ajusta el tamaño si es necesario\n",
        "\n",
        "sns.heatmap(\n",
        "    metrics_df[['Métrica', 'Valor (%)']].set_index('Métrica').T,\n",
        "    annot=True, fmt=\".2f\", cmap=\"Blues\", cbar=False, ax=ax\n",
        ")\n",
        "\n",
        "ax.set_title('Métricas de Evaluación del Modelo', fontsize=14)\n",
        "plt.tight_layout()\n",
        "\n",
        "# Guarda la tabla como una imagen\n",
        "plt.savefig('metricas_modelo.png')"
      ],
      "metadata": {
        "id": "mufXbKX75Zh5"
      },
      "execution_count": null,
      "outputs": [],
      "id": "mufXbKX75Zh5"
    },
    {
      "cell_type": "code",
      "source": [
        "# Predicciones del modelo en el conjunto de prueba\n",
        "y_pred = best_model.predict(X_test_dtm)\n",
        "\n",
        "# Matriz de confusión\n",
        "cm = confusion_matrix(y_test, y_pred)\n",
        "\n",
        "# Imagen matriz de confusión\n",
        "plt.figure(figsize=(8, 6))  # Ajusta el tamaño de la figura si es necesario\n",
        "ax = plt.subplot()\n",
        "\n",
        "sns.heatmap(cm, annot=True, fmt='g', ax=ax, cmap='Blues')\n",
        "\n",
        "ax.set_xlabel('Predicciones')\n",
        "ax.set_ylabel('Valores Reales')\n",
        "ax.set_title('Matriz de Confusión')\n",
        "\n",
        "ax.xaxis.set_ticklabels(['Verdadero', 'Falso'])\n",
        "ax.yaxis.set_ticklabels(['Verdadero', 'Falso'])\n",
        "\n",
        "# Guardar la figura como una imagen PNG\n",
        "plt.savefig('matriz_confusion.png')\n",
        "\n",
        "# Mostrar la matriz de confusión\n",
        "plt.show()"
      ],
      "metadata": {
        "id": "sa1X3ytj5b22"
      },
      "execution_count": null,
      "outputs": [],
      "id": "sa1X3ytj5b22"
    },
    {
      "cell_type": "markdown",
      "id": "e903738a",
      "metadata": {
        "id": "e903738a"
      },
      "source": [
        "Utilizaremos la herramienta `joblib` para guardar el modelo:"
      ]
    },
    {
      "cell_type": "code",
      "execution_count": null,
      "id": "179d6918",
      "metadata": {
        "id": "179d6918"
      },
      "outputs": [],
      "source": [
        "import joblib"
      ]
    },
    {
      "cell_type": "markdown",
      "id": "d1cbcc43",
      "metadata": {
        "id": "d1cbcc43"
      },
      "source": [
        "Guardamos el modelo:"
      ]
    },
    {
      "cell_type": "code",
      "execution_count": null,
      "id": "e3be470f",
      "metadata": {
        "id": "e3be470f"
      },
      "outputs": [],
      "source": [
        "joblib.dump(best_model, \"model.joblib\")"
      ]
    },
    {
      "cell_type": "code",
      "source": [
        "joblib.dump(vect, \"vectorizer.joblib\")"
      ],
      "metadata": {
        "id": "k2pK_Puiq4ml"
      },
      "id": "k2pK_Puiq4ml",
      "execution_count": null,
      "outputs": []
    },
    {
      "cell_type": "code",
      "execution_count": null,
      "id": "e5e1101f",
      "metadata": {
        "lines_to_next_cell": 1,
        "id": "e5e1101f"
      },
      "outputs": [],
      "source": [
        "!pip install --upgrade --force-reinstall pydantic\n",
        "from pydantic import BaseModel\n",
        "from typing import List\n",
        "\n",
        "class ApiInput(BaseModel):\n",
        "    text: List[str]"
      ]
    },
    {
      "cell_type": "markdown",
      "id": "6514172b",
      "metadata": {
        "id": "6514172b"
      },
      "source": [
        "Ahora, definimos una clase para la salida del API:"
      ]
    },
    {
      "cell_type": "code",
      "execution_count": null,
      "id": "971b2fff",
      "metadata": {
        "id": "971b2fff"
      },
      "outputs": [],
      "source": [
        "%%writefile main.py\n",
        "\n",
        "\n",
        "from fastapi import FastAPI # importamos el API\n",
        "from pydantic import BaseModel\n",
        "from typing import List\n",
        "import os\n",
        "import joblib # importamos la librería para cargar el modelo\n",
        "\n",
        "class ApiInput(BaseModel):\n",
        "    texts: List[str]\n",
        "\n",
        "class ApiOutput(BaseModel):\n",
        "    is_fake: List[int]\n",
        "\n",
        "app = FastAPI() # creamos el api\n",
        "model = joblib.load(\"model.joblib\") # cargamos el modelo.\n",
        "vectorizer = joblib.load(\"vectorizer.joblib\")\n",
        "\n",
        "\n",
        "@app.post(\"/fake\") # creamos api que permita requests de tipo post.\n",
        "async def define_sentiment(data: ApiInput) -> ApiOutput:\n",
        "    # Convertir los textos en vectores\n",
        "    text_vectors = vectorizer.transform(data.texts)\n",
        "    predictions = model.predict(text_vectors).flatten().tolist() # generamos la predicción\n",
        "    preds = ApiOutput(is_fake=predictions) # estructuramos la salida del API.\n",
        "    return preds # retornamos los resultados\n",
        "\n",
        "# Configuramos el puerto para Railway\n",
        "if __name__ == \"__main__\":\n",
        "    port = int(os.getenv(\"PORT\", 8080))\n",
        "    import uvicorn\n",
        "    uvicorn.run(app, host=\"0.0.0.0\", port=port)"
      ]
    },
    {
      "cell_type": "code",
      "source": [
        "!apt install tree"
      ],
      "metadata": {
        "id": "mYBb1yFnMlBN"
      },
      "id": "mYBb1yFnMlBN",
      "execution_count": null,
      "outputs": []
    },
    {
      "cell_type": "code",
      "source": [
        "!git --version"
      ],
      "metadata": {
        "id": "8jNn-z5HMtRp"
      },
      "id": "8jNn-z5HMtRp",
      "execution_count": null,
      "outputs": []
    },
    {
      "cell_type": "code",
      "source": [
        "import os\n",
        "from IPython import get_ipython"
      ],
      "metadata": {
        "id": "wTRA4_QCM6sW"
      },
      "id": "wTRA4_QCM6sW",
      "execution_count": null,
      "outputs": []
    },
    {
      "cell_type": "code",
      "source": [
        "!pip install dvc dvc-gdrive"
      ],
      "metadata": {
        "id": "xZA4LUAVM-jv"
      },
      "id": "xZA4LUAVM-jv",
      "execution_count": null,
      "outputs": []
    },
    {
      "cell_type": "code",
      "source": [
        "!mkdir 'proyecto'"
      ],
      "metadata": {
        "id": "klgrC4S3NFsa"
      },
      "id": "klgrC4S3NFsa",
      "execution_count": null,
      "outputs": []
    },
    {
      "cell_type": "code",
      "source": [
        "%cd 'proyecto'"
      ],
      "metadata": {
        "id": "BEZcgjuvNICi"
      },
      "id": "BEZcgjuvNICi",
      "execution_count": null,
      "outputs": []
    },
    {
      "cell_type": "code",
      "source": [
        "!git init"
      ],
      "metadata": {
        "id": "sOwtzJuJNQc6"
      },
      "id": "sOwtzJuJNQc6",
      "execution_count": null,
      "outputs": []
    },
    {
      "cell_type": "markdown",
      "id": "6c5d19db",
      "metadata": {
        "id": "6c5d19db"
      },
      "source": [
        "Inicializamos el repositorio:"
      ]
    },
    {
      "cell_type": "code",
      "execution_count": null,
      "id": "d339a609",
      "metadata": {
        "id": "d339a609"
      },
      "outputs": [],
      "source": [
        "!git config --global user.email \"\"\n",
        "!git config --global user.name \"Claudia Lorena Cañon Diaz\"\n",
        "!git config --global init.defaultBranch master"
      ]
    },
    {
      "cell_type": "markdown",
      "source": [
        "token github"
      ],
      "metadata": {
        "id": "gwGm0zt3goF4"
      },
      "id": "gwGm0zt3goF4"
    },
    {
      "cell_type": "code",
      "source": [
        "token = \"\" # Agregue su token dentro de las comillas."
      ],
      "metadata": {
        "id": "17f0jVMwgp8p"
      },
      "execution_count": null,
      "outputs": [],
      "id": "17f0jVMwgp8p"
    },
    {
      "cell_type": "markdown",
      "source": [
        "Repositorio github"
      ],
      "metadata": {
        "id": "AxxMpkcMgubQ"
      },
      "id": "AxxMpkcMgubQ"
    },
    {
      "cell_type": "code",
      "source": [
        "repo_url = \"https://github.com/HICWhiteFox/tdsp_E16\" # Agruegue la url de su repositorio dentro de las comillas."
      ],
      "metadata": {
        "id": "9Sp6H5osg2LR"
      },
      "execution_count": null,
      "outputs": [],
      "id": "9Sp6H5osg2LR"
    },
    {
      "cell_type": "markdown",
      "source": [
        "Ahora, usaremos una expresión regular para reemplazar el token en esta url:"
      ],
      "metadata": {
        "id": "0zAOXqswhEOz"
      },
      "id": "0zAOXqswhEOz"
    },
    {
      "cell_type": "code",
      "source": [
        "import re\n",
        "pat = re.compile(r\"(https://)(.*)\")"
      ],
      "metadata": {
        "id": "wdC9srO-hEtl"
      },
      "execution_count": null,
      "outputs": [],
      "id": "wdC9srO-hEtl"
    },
    {
      "cell_type": "markdown",
      "source": [
        "Formatear URL"
      ],
      "metadata": {
        "id": "00US7IfFhLTR"
      },
      "id": "00US7IfFhLTR"
    },
    {
      "cell_type": "code",
      "source": [
        "match = re.match(pat, repo_url)\n",
        "url_token = \"\".join([match.group(1), token, \"@\", match.group(2)])\n",
        "os.environ[\"GITHUB\"] = url_token"
      ],
      "metadata": {
        "id": "FebPmS7ChOB_"
      },
      "execution_count": null,
      "outputs": [],
      "id": "FebPmS7ChOB_"
    },
    {
      "cell_type": "markdown",
      "source": [
        "Clonar repositorio"
      ],
      "metadata": {
        "id": "QE83O7wphRPV"
      },
      "id": "QE83O7wphRPV"
    },
    {
      "cell_type": "code",
      "source": [
        "!git clone $GITHUB"
      ],
      "metadata": {
        "id": "HDhA16qphWs1"
      },
      "execution_count": null,
      "outputs": [],
      "id": "HDhA16qphWs1"
    },
    {
      "cell_type": "markdown",
      "id": "b6f82118",
      "metadata": {
        "id": "b6f82118"
      },
      "source": [
        "Adicionalmente, debemos crear el archivo `requirements.txt` con las dependencias del proyecto:"
      ]
    },
    {
      "cell_type": "code",
      "execution_count": null,
      "id": "8304490b",
      "metadata": {
        "id": "8304490b"
      },
      "outputs": [],
      "source": [
        "%%writefile requirements.txt\n",
        "scikit-learn\n",
        "fastapi\n",
        "uvicorn\n",
        "joblib"
      ]
    },
    {
      "cell_type": "code",
      "source": [
        "!pwd"
      ],
      "metadata": {
        "id": "CFMYAqs1Rbcj"
      },
      "id": "CFMYAqs1Rbcj",
      "execution_count": null,
      "outputs": []
    },
    {
      "cell_type": "code",
      "source": [
        "%cd 'tdsp_E16/docs/deployment'"
      ],
      "metadata": {
        "id": "Yu_dRagERQYM"
      },
      "id": "Yu_dRagERQYM",
      "execution_count": null,
      "outputs": []
    },
    {
      "cell_type": "markdown",
      "id": "5f94ca67",
      "metadata": {
        "id": "5f94ca67"
      },
      "source": [
        "Adicional a esto, Railway requiere la creación de un archivo de configuración:"
      ]
    },
    {
      "cell_type": "code",
      "execution_count": null,
      "id": "60409f1c",
      "metadata": {
        "id": "60409f1c"
      },
      "outputs": [],
      "source": [
        "%%writefile railway.json\n",
        "{\n",
        "  \"$schema\": \"https://railway.app/railway.schema.json\",\n",
        "  \"build\": {\n",
        "    \"builder\": \"NIXPACKS\"\n",
        "  },\n",
        "  \"deploy\": {\n",
        "    \"startCommand\": \"uvicorn main:app --host 0.0.0.0 --port $PORT\",\n",
        "    \"restartPolicyType\": \"ON_FAILURE\",\n",
        "    \"restartPolicyMaxRetries\": 10\n",
        "  }\n",
        "}"
      ]
    },
    {
      "cell_type": "markdown",
      "id": "aa05c461",
      "metadata": {
        "id": "aa05c461"
      },
      "source": [
        "Ahora agregamos los archivos al area de preparación:"
      ]
    },
    {
      "cell_type": "code",
      "execution_count": null,
      "id": "401413e9",
      "metadata": {
        "id": "401413e9"
      },
      "outputs": [],
      "source": [
        "!git add railway.json requirements.txt main.py model.joblib\n",
        "!git commit -m \"Agregamos los archivos para el uso de fastAPI como despliegue\""
      ]
    },
    {
      "cell_type": "code",
      "execution_count": null,
      "metadata": {
        "id": "wObofbAYS1BU"
      },
      "outputs": [],
      "source": [
        "!git add ../../src/requirements.txt\n",
        "!git commit -m \"ajuste archivos en src del proyecto\""
      ],
      "id": "wObofbAYS1BU"
    },
    {
      "cell_type": "code",
      "source": [
        "!git status"
      ],
      "metadata": {
        "id": "EJJ1q2t0SnwE"
      },
      "id": "EJJ1q2t0SnwE",
      "execution_count": null,
      "outputs": []
    },
    {
      "cell_type": "markdown",
      "id": "7717187b",
      "metadata": {
        "id": "7717187b"
      },
      "source": [
        "Finalmente, enlazamos el repositorio local con el nuevo repositorio en Github con el comando `git remote`:"
      ]
    },
    {
      "cell_type": "code",
      "execution_count": null,
      "id": "8fb02cc8",
      "metadata": {
        "id": "8fb02cc8"
      },
      "outputs": [],
      "source": [
        "!git remote add origin $GITHUB"
      ]
    },
    {
      "cell_type": "markdown",
      "id": "43a5fd67",
      "metadata": {
        "id": "43a5fd67"
      },
      "source": [
        "En este punto, las versiones local (Colab) y remoto (Github) son distintas, para subir los cambios podemos usar el comando `git push` especificando la rama que deseamos actualizar:"
      ]
    },
    {
      "cell_type": "code",
      "execution_count": null,
      "id": "2b6011be",
      "metadata": {
        "id": "2b6011be"
      },
      "outputs": [],
      "source": [
        "!git push origin master"
      ]
    },
    {
      "cell_type": "markdown",
      "source": [
        "![Captura desde 2024-12-19 16-00-08.png](data:image/png;base64,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)"
      ],
      "metadata": {
        "id": "cEY7hGeduDub"
      },
      "id": "cEY7hGeduDub"
    },
    {
      "cell_type": "code",
      "execution_count": null,
      "id": "445522d5",
      "metadata": {
        "id": "445522d5"
      },
      "outputs": [],
      "source": [
        "model_url = \"https://zippy-wonder-production.up.railway.app\" #url de railway"
      ]
    },
    {
      "cell_type": "markdown",
      "id": "b3de2ac8",
      "metadata": {
        "id": "b3de2ac8"
      },
      "source": [
        "Ahora podemos validar que el API funcione correctamente, vamos a consumirlo con la librería `requests`:"
      ]
    },
    {
      "cell_type": "code",
      "execution_count": null,
      "id": "cb542bf7",
      "metadata": {
        "id": "cb542bf7"
      },
      "outputs": [],
      "source": [
        "import requests"
      ]
    },
    {
      "cell_type": "markdown",
      "id": "72586072",
      "metadata": {
        "id": "72586072"
      },
      "source": [
        "Veamos el resultado para un texto de una noticia:"
      ]
    },
    {
      "cell_type": "code",
      "execution_count": null,
      "id": "03ca3894",
      "metadata": {
        "id": "03ca3894"
      },
      "outputs": [],
      "source": [
        "r = requests.post(os.path.join(model_url, \"fake\"), json={\"texts\": [\"Retrasan el regreso de los astronautas que fueron a la Estación Espacial por 8 días y se van a quedar al menos 10 meses\"]})\n",
        "print(r.json())"
      ]
    },
    {
      "cell_type": "code",
      "source": [
        "r = requests.post(os.path.join(model_url, \"fake\"), json={\"texts\": [\"Gobierno Petro expide decreto de presupuesto para 2025: hace recorte y será por 511 billones de pesos\"]})\n",
        "print(r.json())"
      ],
      "metadata": {
        "id": "JtFx_LREucle"
      },
      "id": "JtFx_LREucle",
      "execution_count": null,
      "outputs": []
    }
  ],
  "metadata": {
    "jupytext": {
      "cell_metadata_filter": "-all"
    },
    "kernelspec": {
      "display_name": "Python 3",
      "name": "python3"
    },
    "colab": {
      "private_outputs": true,
      "provenance": []
    }
  },
  "nbformat": 4,
  "nbformat_minor": 5
}