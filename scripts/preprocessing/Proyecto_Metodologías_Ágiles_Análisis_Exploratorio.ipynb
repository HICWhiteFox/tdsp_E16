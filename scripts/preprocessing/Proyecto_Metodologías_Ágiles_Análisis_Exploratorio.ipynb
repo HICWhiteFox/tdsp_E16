{
  "cells": [
    {
      "cell_type": "markdown",
      "source": [
        "# **PARTE I: Carga de Textos**\n",
        "---"
      ],
      "metadata": {
        "id": "e7B__bnXLjIM"
      },
      "id": "e7B__bnXLjIM"
    },
    {
      "cell_type": "code",
      "source": [
        "import kagglehub\n",
        "\n",
        "# Download latest version\n",
        "path = kagglehub.dataset_download(\"arseniitretiakov/noticias-falsas-en-espaol\")\n",
        "\n",
        "print(\"Path to dataset files:\", path)"
      ],
      "metadata": {
        "colab": {
          "base_uri": "https://localhost:8080/"
        },
        "id": "3ZaK8XreYnFh",
        "outputId": "4cb98696-9537-4a1e-d82a-045b1d3b698b"
      },
      "id": "3ZaK8XreYnFh",
      "execution_count": 1,
      "outputs": [
        {
          "output_type": "stream",
          "name": "stdout",
          "text": [
            "Path to dataset files: /root/.cache/kagglehub/datasets/arseniitretiakov/noticias-falsas-en-espaol/versions/1\n"
          ]
        }
      ]
    },
    {
      "cell_type": "code",
      "source": [
        "import pandas as pd\n",
        "\n",
        "# Assuming the dataset is in a CSV file named \"fakes1000.csv\"\n",
        "file_path = path + \"/fakes1000.csv\"\n",
        "df = pd.read_csv(file_path)\n",
        "\n",
        "print(df.head()) # Print the first few rows of the DataFrame"
      ],
      "metadata": {
        "id": "ZIIl9-8I5_K2",
        "colab": {
          "base_uri": "https://localhost:8080/"
        },
        "outputId": "55a72617-8d4a-46dc-ea32-bc46881e536e"
      },
      "id": "ZIIl9-8I5_K2",
      "execution_count": 2,
      "outputs": [
        {
          "output_type": "stream",
          "name": "stdout",
          "text": [
            "   class                                               Text\n",
            "0   True   Algunas de las voces extremistas más conocida...\n",
            "1   True   Después de casi dos años y medio de luchas po...\n",
            "2   True   Dos periodistas birmanos de la agencia Reuter...\n",
            "3   True   El Cuerpo Nacional de Policía ha detenido a c...\n",
            "4   True   El desfile de la firma en Roma se convierte e...\n"
          ]
        }
      ]
    },
    {
      "cell_type": "markdown",
      "source": [
        "# **PARTE II: Análisis Exploratorio**\n",
        "---"
      ],
      "metadata": {
        "id": "VZECuHKWidbl"
      },
      "id": "VZECuHKWidbl"
    },
    {
      "cell_type": "code",
      "source": [
        "!pip install pandas==1.5.3"
      ],
      "metadata": {
        "colab": {
          "base_uri": "https://localhost:8080/"
        },
        "id": "z_SEmMcYSll8",
        "outputId": "cdea50ed-961c-4d0b-c06f-edae3d31790d"
      },
      "id": "z_SEmMcYSll8",
      "execution_count": 3,
      "outputs": [
        {
          "output_type": "stream",
          "name": "stdout",
          "text": [
            "Requirement already satisfied: pandas==1.5.3 in /usr/local/lib/python3.10/dist-packages (1.5.3)\n",
            "Requirement already satisfied: python-dateutil>=2.8.1 in /usr/local/lib/python3.10/dist-packages (from pandas==1.5.3) (2.8.2)\n",
            "Requirement already satisfied: pytz>=2020.1 in /usr/local/lib/python3.10/dist-packages (from pandas==1.5.3) (2024.2)\n",
            "Requirement already satisfied: numpy>=1.21.0 in /usr/local/lib/python3.10/dist-packages (from pandas==1.5.3) (1.26.4)\n",
            "Requirement already satisfied: six>=1.5 in /usr/local/lib/python3.10/dist-packages (from python-dateutil>=2.8.1->pandas==1.5.3) (1.16.0)\n"
          ]
        }
      ]
    },
    {
      "cell_type": "markdown",
      "source": [
        "**INFORMACIÓN GENERAL DEL DATAFRAME**"
      ],
      "metadata": {
        "id": "l8pcE4J6VXfy"
      },
      "id": "l8pcE4J6VXfy"
    },
    {
      "cell_type": "code",
      "source": [
        "df.info()"
      ],
      "metadata": {
        "colab": {
          "base_uri": "https://localhost:8080/"
        },
        "id": "aafI_eGVTAvv",
        "outputId": "d3fbef51-9e7d-4232-cb63-4260c7542211"
      },
      "id": "aafI_eGVTAvv",
      "execution_count": 4,
      "outputs": [
        {
          "output_type": "stream",
          "name": "stdout",
          "text": [
            "<class 'pandas.core.frame.DataFrame'>\n",
            "RangeIndex: 2000 entries, 0 to 1999\n",
            "Data columns (total 2 columns):\n",
            " #   Column  Non-Null Count  Dtype \n",
            "---  ------  --------------  ----- \n",
            " 0   class   2000 non-null   bool  \n",
            " 1   Text    2000 non-null   object\n",
            "dtypes: bool(1), object(1)\n",
            "memory usage: 17.7+ KB\n"
          ]
        }
      ]
    },
    {
      "cell_type": "code",
      "source": [
        "df.astype({'class': 'category'}).dtypes"
      ],
      "metadata": {
        "colab": {
          "base_uri": "https://localhost:8080/",
          "height": 178
        },
        "id": "GQr6M5e8rM5O",
        "outputId": "5f522f34-3276-45c0-fb16-12a428d25d7f"
      },
      "id": "GQr6M5e8rM5O",
      "execution_count": 12,
      "outputs": [
        {
          "output_type": "execute_result",
          "data": {
            "text/plain": [
              "class       category\n",
              "Text          object\n",
              "Language      object\n",
              "dtype: object"
            ],
            "text/html": [
              "<div>\n",
              "<style scoped>\n",
              "    .dataframe tbody tr th:only-of-type {\n",
              "        vertical-align: middle;\n",
              "    }\n",
              "\n",
              "    .dataframe tbody tr th {\n",
              "        vertical-align: top;\n",
              "    }\n",
              "\n",
              "    .dataframe thead th {\n",
              "        text-align: right;\n",
              "    }\n",
              "</style>\n",
              "<table border=\"1\" class=\"dataframe\">\n",
              "  <thead>\n",
              "    <tr style=\"text-align: right;\">\n",
              "      <th></th>\n",
              "      <th>0</th>\n",
              "    </tr>\n",
              "  </thead>\n",
              "  <tbody>\n",
              "    <tr>\n",
              "      <th>class</th>\n",
              "      <td>category</td>\n",
              "    </tr>\n",
              "    <tr>\n",
              "      <th>Text</th>\n",
              "      <td>object</td>\n",
              "    </tr>\n",
              "    <tr>\n",
              "      <th>Language</th>\n",
              "      <td>object</td>\n",
              "    </tr>\n",
              "  </tbody>\n",
              "</table>\n",
              "</div><br><label><b>dtype:</b> object</label>"
            ]
          },
          "metadata": {},
          "execution_count": 12
        }
      ]
    },
    {
      "cell_type": "markdown",
      "source": [
        "**DISTRIBUCIÓN DE LAS CLASES**"
      ],
      "metadata": {
        "id": "xFnVod0hVlVd"
      },
      "id": "xFnVod0hVlVd"
    },
    {
      "cell_type": "code",
      "source": [
        "import matplotlib.pyplot as plt"
      ],
      "metadata": {
        "id": "JNa4HAL9VUW1"
      },
      "id": "JNa4HAL9VUW1",
      "execution_count": 5,
      "outputs": []
    },
    {
      "cell_type": "code",
      "source": [
        "df['class'].value_counts().plot(kind='bar')\n",
        "plt.show()"
      ],
      "metadata": {
        "colab": {
          "base_uri": "https://localhost:8080/",
          "height": 451
        },
        "id": "vr4u83_jVrwh",
        "outputId": "621118b1-6ba6-43bd-d3b2-7d340ad69a72"
      },
      "id": "vr4u83_jVrwh",
      "execution_count": 6,
      "outputs": [
        {
          "output_type": "display_data",
          "data": {
            "text/plain": [
              "<Figure size 640x480 with 1 Axes>"
            ],
            "image/png": "[encoded data removed]"
          },
          "metadata": {}
        }
      ]
    },
    {
      "cell_type": "markdown",
      "source": [
        "**SEPARACIÓN DE TEXTOS DE ACUERDO CON LA CLASE**"
      ],
      "metadata": {
        "id": "qya00QOCbXWf"
      },
      "id": "qya00QOCbXWf"
    },
    {
      "cell_type": "code",
      "source": [
        "df_true = df[df['class'] == True]\n",
        "df_false = df[df['class'] == False]"
      ],
      "metadata": {
        "id": "3tCUZ6vEbVtO"
      },
      "id": "3tCUZ6vEbVtO",
      "execution_count": 7,
      "outputs": []
    },
    {
      "cell_type": "markdown",
      "source": [
        "**CALCULO DE LA LONGITUD DEL TEXTO PARA CADA CLASE**"
      ],
      "metadata": {
        "id": "ua3GISc8bqxc"
      },
      "id": "ua3GISc8bqxc"
    },
    {
      "cell_type": "code",
      "source": [
        "df_true['Text_Length'] = df_true['Text'].str.split().str.len()\n",
        "df_false['Text_Length'] = df_false['Text'].str.split().str.len()"
      ],
      "metadata": {
        "colab": {
          "base_uri": "https://localhost:8080/"
        },
        "id": "-Fo10veIbm-J",
        "outputId": "914b5098-dc54-44a0-dcc5-9d220c0b1efa"
      },
      "id": "-Fo10veIbm-J",
      "execution_count": 8,
      "outputs": [
        {
          "output_type": "stream",
          "name": "stderr",
          "text": [
            "<ipython-input-8-3450af500d0f>:1: SettingWithCopyWarning: \n",
            "A value is trying to be set on a copy of a slice from a DataFrame.\n",
            "Try using .loc[row_indexer,col_indexer] = value instead\n",
            "\n",
            "See the caveats in the documentation: https://pandas.pydata.org/pandas-docs/stable/user_guide/indexing.html#returning-a-view-versus-a-copy\n",
            "  df_true['Text_Length'] = df_true['Text'].str.split().str.len()\n",
            "<ipython-input-8-3450af500d0f>:2: SettingWithCopyWarning: \n",
            "A value is trying to be set on a copy of a slice from a DataFrame.\n",
            "Try using .loc[row_indexer,col_indexer] = value instead\n",
            "\n",
            "See the caveats in the documentation: https://pandas.pydata.org/pandas-docs/stable/user_guide/indexing.html#returning-a-view-versus-a-copy\n",
            "  df_false['Text_Length'] = df_false['Text'].str.split().str.len()\n"
          ]
        }
      ]
    },
    {
      "cell_type": "markdown",
      "source": [
        "**HISTOGRAMA DE FRECUENCIA POR CLASE**"
      ],
      "metadata": {
        "id": "8olHdgZHmeUQ"
      },
      "id": "8olHdgZHmeUQ"
    },
    {
      "cell_type": "code",
      "source": [
        "plt.figure(figsize=(10, 5))\n",
        "\n",
        "plt.subplot(1, 2, 1)  # 1 row, 2 columns, first plot\n",
        "plt.hist(df_true['Text_Length'], bins=20, color='skyblue', edgecolor='black')\n",
        "plt.title('Text Length Distribution (Class: True)')\n",
        "plt.xlabel('Text Length')\n",
        "plt.ylabel('Frequency')\n",
        "\n",
        "plt.subplot(1, 2, 2)  # 1 row, 2 columns, second plot\n",
        "plt.hist(df_false['Text_Length'], bins=20, color='salmon', edgecolor='black')\n",
        "plt.title('Text Length Distribution (Class: False)')\n",
        "plt.xlabel('Text Length')\n",
        "plt.ylabel('Frequency')\n",
        "\n",
        "plt.tight_layout()  # Adjust layout for better spacing\n",
        "plt.show()"
      ],
      "metadata": {
        "colab": {
          "base_uri": "https://localhost:8080/",
          "height": 437
        },
        "id": "nL0VY_nJb7sS",
        "outputId": "78e14461-2634-4a80-afb4-5e2db36269df"
      },
      "id": "nL0VY_nJb7sS",
      "execution_count": 9,
      "outputs": [
        {
          "output_type": "display_data",
          "data": {
            "text/plain": [
              "<Figure size 1000x500 with 2 Axes>"
            ],
            "image/png": "[encoded data removed]"
          },
          "metadata": {}
        }
      ]
    },
    {
      "cell_type": "markdown",
      "source": [
        "**ESTADÍSTICAS DESCRIPTIVAS POR CLASE**"
      ],
      "metadata": {
        "id": "xoRVEfgZmuWJ"
      },
      "id": "xoRVEfgZmuWJ"
    },
    {
      "cell_type": "code",
      "source": [
        "true_stats = df_true['Text_Length'].describe()\n",
        "false_stats = df_false['Text_Length'].describe()\n",
        "\n",
        "print(\"Statistics for Class: True\\n\", true_stats)\n",
        "print(\"\\nStatistics for Class: False\\n\", false_stats)"
      ],
      "metadata": {
        "colab": {
          "base_uri": "https://localhost:8080/"
        },
        "id": "6DnbPaeNcISZ",
        "outputId": "0060ae90-7603-4171-9fde-16e09e570f18"
      },
      "id": "6DnbPaeNcISZ",
      "execution_count": 10,
      "outputs": [
        {
          "output_type": "stream",
          "name": "stdout",
          "text": [
            "Statistics for Class: True\n",
            " count    1000.000000\n",
            "mean       39.926000\n",
            "std        13.937459\n",
            "min         6.000000\n",
            "25%        39.000000\n",
            "50%        42.000000\n",
            "75%        44.250000\n",
            "max       379.000000\n",
            "Name: Text_Length, dtype: float64\n",
            "\n",
            "Statistics for Class: False\n",
            " count    1000.000000\n",
            "mean       39.435000\n",
            "std        14.677848\n",
            "min         6.000000\n",
            "25%        38.000000\n",
            "50%        42.000000\n",
            "75%        45.000000\n",
            "max       364.000000\n",
            "Name: Text_Length, dtype: float64\n"
          ]
        }
      ]
    },
    {
      "cell_type": "markdown",
      "source": [
        "**DETECTANDO IDIOMA DE LOS TEXTOS**"
      ],
      "metadata": {
        "id": "MkXQcqhWnPul"
      },
      "id": "MkXQcqhWnPul"
    },
    {
      "cell_type": "code",
      "source": [
        "!pip install langdetect\n",
        "\n",
        "from langdetect import detect\n",
        "import pandas as pd\n",
        "\n",
        "def detect_language(text):\n",
        "    try:\n",
        "        return detect(text)\n",
        "    except:\n",
        "        return 'unknown'\n",
        "\n",
        "df['Language'] = df['Text'].apply(detect_language)\n",
        "\n",
        "print(df[['Text', 'Language']].head())"
      ],
      "metadata": {
        "colab": {
          "base_uri": "https://localhost:8080/"
        },
        "id": "m7cVBGTnnP92",
        "outputId": "8fb7be47-c7b2-4fe1-8525-1e1ff5130e6b"
      },
      "id": "m7cVBGTnnP92",
      "execution_count": 11,
      "outputs": [
        {
          "output_type": "stream",
          "name": "stdout",
          "text": [
            "Collecting langdetect\n",
            "  Downloading langdetect-1.0.9.tar.gz (981 kB)\n",
            "\u001b[?25l     \u001b[90m━━━━━━━━━━━━━━━━━━━━━━━━━━━━━━━━━━━━━━━━\u001b[0m \u001b[32m0.0/981.5 kB\u001b[0m \u001b[31m?\u001b[0m eta \u001b[36m-:--:--\u001b[0m\r\u001b[2K     \u001b[91m━━━━━━━━━━━━━━━━━\u001b[0m\u001b[91m╸\u001b[0m\u001b[90m━━━━━━━━━━━━━━━━━━━━━━\u001b[0m \u001b[32m430.1/981.5 kB\u001b[0m \u001b[31m12.5 MB/s\u001b[0m eta \u001b[36m0:00:01\u001b[0m\r\u001b[2K     \u001b[90m━━━━━━━━━━━━━━━━━━━━━━━━━━━━━━━━━━━━━━━━\u001b[0m \u001b[32m981.5/981.5 kB\u001b[0m \u001b[31m17.0 MB/s\u001b[0m eta \u001b[36m0:00:00\u001b[0m\n",
            "\u001b[?25h  Preparing metadata (setup.py) ... \u001b[?25l\u001b[?25hdone\n",
            "Requirement already satisfied: six in /usr/local/lib/python3.10/dist-packages (from langdetect) (1.16.0)\n",
            "Building wheels for collected packages: langdetect\n",
            "  Building wheel for langdetect (setup.py) ... \u001b[?25l\u001b[?25hdone\n",
            "  Created wheel for langdetect: filename=langdetect-1.0.9-py3-none-any.whl size=993222 sha256=e05ff7f314cd7d0015cd386c3d39577a146b009009a95561702f0a70a466fda0\n",
            "  Stored in directory: /root/.cache/pip/wheels/95/03/7d/59ea870c70ce4e5a370638b5462a7711ab78fba2f655d05106\n",
            "Successfully built langdetect\n",
            "Installing collected packages: langdetect\n",
            "Successfully installed langdetect-1.0.9\n",
            "                                                Text Language\n",
            "0   Algunas de las voces extremistas más conocida...       es\n",
            "1   Después de casi dos años y medio de luchas po...       es\n",
            "2   Dos periodistas birmanos de la agencia Reuter...       es\n",
            "3   El Cuerpo Nacional de Policía ha detenido a c...       es\n",
            "4   El desfile de la firma en Roma se convierte e...       es\n"
          ]
        }
      ]
    },
    {
      "cell_type": "code",
      "source": [
        "spanish_count = df['Language'].value_counts()['es']\n",
        "\n",
        "print(\"Number of texts in Spanish:\", spanish_count)"
      ],
      "metadata": {
        "colab": {
          "base_uri": "https://localhost:8080/"
        },
        "id": "--P7a_08n5lC",
        "outputId": "b5d140fd-2e62-4d77-ef39-66edcfd323e0"
      },
      "id": "--P7a_08n5lC",
      "execution_count": 18,
      "outputs": [
        {
          "output_type": "stream",
          "name": "stdout",
          "text": [
            "Number of texts in Spanish: 1961\n"
          ]
        }
      ]
    },
    {
      "cell_type": "code",
      "source": [
        "non_spanish_df = df[df['Language'] != 'es'].head(30)\n",
        "\n",
        "print(non_spanish_df) # Print the new DataFrame with non-Spanish texts"
      ],
      "metadata": {
        "colab": {
          "base_uri": "https://localhost:8080/"
        },
        "id": "66wWwM9WoIa3",
        "outputId": "c2a8bc06-913f-4c93-b1b1-081aa005c3a5"
      },
      "id": "66wWwM9WoIa3",
      "execution_count": 19,
      "outputs": [
        {
          "output_type": "stream",
          "name": "stdout",
          "text": [
            "      class                                               Text Language\n",
            "213   False   TELEFONO DE EMERGENCES DESDE MdVILES gratis P...       en\n",
            "230   False  ¡¡¡MENSAJE MUY, MUY, MUY URGENTE E IMPORTANTE!...       pt\n",
            "235   False  ¡ESTO S ESCNDALOSO! LS BNCO PONDRÁ UN CANON DE...       ca\n",
            "236   False  ¡NOTICIA DE ULTIMA HORA! MUERE PAU DONÉS, VOCA...       de\n",
            "246   False  ¿PORQUE LOS INFARTOS OCURREN MÁS A MENUDO EN E...       pt\n",
            "268   False  «AGENTES DE LA POLICÍA Y DE LA GUARDIA CIVIL Q...       en\n",
            "287   False  630 MILLONES DESTINADOS A AYUDAS AL DESARROLLO...       hu\n",
            "353   False  ASÍ SE ENCUENTRAN LOS POBRES ANIMALITOS EN LOS...       de\n",
            "364   False  AYER NOMÁS PAJARITO alferdez FERNÁNDEZ DECÍA Q...       de\n",
            "458   False  Copiando a países serios DINAMARCA DA AYUDA SO...       pt\n",
            "470   False  CUIDADO CON ESTE PELIGROSO INSECTO SI LO VES Q...       pt\n",
            "537   False  EL ASTRO PORTUGUÉS DE FUTBOL CRISTIANO RONALDO...       pt\n",
            "756   False  EL PRIMER MINISTRO DE BÉLGICA Y SU PAREJA – EN...       de\n",
            "758   False  El primer puente feminista creado por mujeres ...       sl\n",
            "833   False  EN DINAMARCA ,SI VOTAN LOS PRESOS Y LOS QUE TI...       vi\n",
            "879   False  ES INCREIBLE, COMO UNAS PERSONAS QUE SON JUECE...       de\n",
            "916   False  ESTE MAMERTO FUE IDENTIFICADO COMO EL ENCARGAD...       pt\n",
            "948   False  FONT VELLA ENVASADA EN GERONA PARA SOLIDARIZAR...       pt\n",
            "976   False  HACER VIRAL ESTA FOTO. PARA QUE TODO EL MUNDO ...       en\n",
            "989   False  HOLA : DESDE AQUÍ OS RUEGO QUE REVISÉIS EL REC...       de\n",
            "990   False  HOLA CONTACTOS DE FACEBOOK, ESTA RATA DE ALCAN...       pt\n",
            "1013  False  Ja està bé. Força companys. Al final serà Cata...       ca\n",
            "1229  False  La revista britànica també aconsella que els a...       ca\n",
            "1309  False  Locura total Chile presidente amenaza a Venezu...       pt\n",
            "1472  False  PELIGRO, EL HORNO MICROONDAS, UNO DE LOS MAYOR...       de\n",
            "1503  False  President Donald Trump and First Lady Melania ...       en\n",
            "1513  False  PUCHERAZO EN LAS ELECCIONES GENERALES DE ESTE ...       de\n",
            "1599  False  SI DE NOCHE TE TIRAN UN HUEVO CONTRA EL PARABR...       en\n",
            "1627  False  SOPAS MARUCHAN VENENO PURO LAS SOPAS INSTANTAN...       pt\n",
            "1633  False  SUBEN LAS PENSIONES 1 EURO Y SUBEN EL RECIBO D...       de\n"
          ]
        }
      ]
    }
  ],
  "metadata": {
    "jupytext": {
      "cell_metadata_filter": "-all"
    },
    "kernelspec": {
      "display_name": "Python 3 (ipykernel)",
      "language": "python",
      "name": "python3"
    },
    "colab": {
      "provenance": []
    }
  },
  "nbformat": 4,
  "nbformat_minor": 5
}